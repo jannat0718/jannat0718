{
  "nbformat": 4,
  "nbformat_minor": 0,
  "metadata": {
    "colab": {
      "name": "SMS Spam-Ham Classification .ipynb",
      "provenance": [],
      "authorship_tag": "ABX9TyP5/Nl95LXZ9gS9QTFsIuDE",
      "include_colab_link": true
    },
    "kernelspec": {
      "name": "python3",
      "display_name": "Python 3"
    },
    "language_info": {
      "name": "python"
    }
  },
  "cells": [
    {
      "cell_type": "markdown",
      "metadata": {
        "id": "view-in-github",
        "colab_type": "text"
      },
      "source": [
        "<a href=\"https://colab.research.google.com/github/jannat0718/jannat0718/blob/main/SMS_Spam_Ham_Classification_.ipynb\" target=\"_parent\"><img src=\"https://colab.research.google.com/assets/colab-badge.svg\" alt=\"Open In Colab\"/></a>"
      ]
    },
    {
      "cell_type": "code",
      "execution_count": null,
      "metadata": {
        "id": "a6AS7ZblTh9M"
      },
      "outputs": [],
      "source": [
        ""
      ]
    }
  ]
}